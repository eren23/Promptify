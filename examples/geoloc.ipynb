{
 "cells": [
  {
   "cell_type": "code",
   "execution_count": 1,
   "metadata": {},
   "outputs": [],
   "source": [
    "import json\n",
    "\n",
    "from promptify.models.nlp.openai_model import OpenAI\n",
    "from promptify.prompts.nlp.prompter import Prompter"
   ]
  },
  {
   "cell_type": "code",
   "execution_count": 2,
   "metadata": {},
   "outputs": [],
   "source": [
    "model = OpenAI(api_key=\"YOUR_API_KEY\")\n",
    "nlp_prompter = Prompter(model)"
   ]
  },
  {
   "cell_type": "code",
   "execution_count": 3,
   "metadata": {},
   "outputs": [],
   "source": [
    "data = json.load(open(\"data/tabular4.json\",'r'))\n"
   ]
  },
  {
   "cell_type": "code",
   "execution_count": 4,
   "metadata": {},
   "outputs": [
    {
     "data": {
      "text/plain": [
       "3"
      ]
     },
     "execution_count": 4,
     "metadata": {},
     "output_type": "execute_result"
    }
   ],
   "source": [
    "len(data['samples'])"
   ]
  },
  {
   "cell_type": "code",
   "execution_count": 5,
   "metadata": {},
   "outputs": [
    {
     "name": "stdout",
     "output_type": "stream",
     "text": [
      "{'Text': 'Deprem sırasında evimizde yer alan adresimiz: İstanbul, Beşiktaş, Yıldız Mahallesi, Cumhuriyet Caddesi No: 35', 'Tabular Data': {'il': 'İstanbul', 'ilçe': 'Beşiktaş', 'mahalle': 'Yıldız Mahallesi', 'sokak': 'Cumhuriyet Caddesi', 'no': 35}} \n",
      "\n",
      "{'Text': 'Deprem anında bulunduğumuz adres: Ankara, Kızılay, Mustafa Kemal Paşa Caddesi No: 12/2', 'Tabular Data': {'il': 'Ankara', 'ilçe': 'Kızılay', 'sokak': 'Mustafa Kemal Paşa Caddesi', 'no': '12/2'}} \n",
      "\n",
      "{'Text': 'Acil yardıma ihtiyacımız var! Deprem anında bulunduğumuz adres: İzmir, Konak, Alsancak, Cumhuriyet Caddesi No: 45', 'Tabular Data': {'il': 'İzmir', 'ilçe': 'Konak', 'semt': 'Alsancak', 'sokak': 'Cumhuriyet Caddesi', 'no': 45}} \n",
      "\n"
     ]
    }
   ],
   "source": [
    "examples = []\n",
    "for sample in data['samples'][:5]:\n",
    "    print(sample,\"\\n\")\n",
    "    examples.append((sample['Text'],sample['Tabular Data']))"
   ]
  },
  {
   "cell_type": "code",
   "execution_count": 7,
   "metadata": {},
   "outputs": [
    {
     "name": "stdout",
     "output_type": "stream",
     "text": [
      "Tabular Data Extraction\n",
      "You are a highly intelligent and accurate tabular data extractor from plain text input and especially from emergency text that carries address information, your inputs can be text of arbitrary size, but the output should be in [{'tabular': {'entity_type': 'entity'} }] JSON format\n",
      "Examples:\n",
      "\n",
      "\n",
      "Input: Deprem sırasında evimizde yer alan adresimiz: İstanbul, Beşiktaş, Yıldız Mahallesi, Cumhuriyet Caddesi No: 35\n",
      "Output: [{'Tabular': '{'il': 'İstanbul', 'ilçe': 'Beşiktaş', 'mahalle': 'Yıldız Mahallesi', 'sokak': 'Cumhuriyet Caddesi', 'no': 35}' }]\n",
      "\n",
      "Input: Deprem anında bulunduğumuz adres: Ankara, Kızılay, Mustafa Kemal Paşa Caddesi No: 12/2\n",
      "Output: [{'Tabular': '{'il': 'Ankara', 'ilçe': 'Kızılay', 'sokak': 'Mustafa Kemal Paşa Caddesi', 'no': '12/2'}' }]\n",
      "\n",
      "Input: Acil yardıma ihtiyacımız var! Deprem anında bulunduğumuz adres: İzmir, Konak, Alsancak, Cumhuriyet Caddesi No: 45\n",
      "Output: [{'Tabular': '{'il': 'İzmir', 'ilçe': 'Konak', 'semt': 'Alsancak', 'sokak': 'Cumhuriyet Caddesi', 'no': 45}' }]\n",
      "\n",
      "\n",
      "Input: Acil yardima ihtiyacim var, Elaziğin merkezindeyim, adresim 1. Sokak 2. Cadde 3. Ev No: 4\n",
      "Output:\n"
     ]
    }
   ],
   "source": [
    "prompt = nlp_prompter.generate_prompt('geolooc_extractor.jinja',\n",
    "                                      examples=examples,\n",
    "                                    #   text_input=data['samples'][6][\"Text\"],\n",
    "                                        text_input=\"Acil yardima ihtiyacim var, Elaziğin merkezindeyim, adresim 1. Sokak 2. Cadde 3. Ev No: 4\",\n",
    "\n",
    "                                     description=\"Tabular Data Extraction\")\n",
    "print(prompt)"
   ]
  },
  {
   "cell_type": "code",
   "execution_count": 8,
   "metadata": {},
   "outputs": [],
   "source": [
    "output = nlp_prompter.fit('tabular_extractor.jinja',\n",
    "                                      examples=examples,\n",
    "                                    #   text_input=data['samples'][6][\"Text\"],\n",
    "                                        text_input=\"Acil yardima ihtiyacim var, Elaziğin merkezindeyim, adresim 1. Sokak 2. Cadde 3. Ev No: 4\",\n",
    "                                      model_name=\"text-davinci-003\"\n",
    "                                     )"
   ]
  },
  {
   "cell_type": "code",
   "execution_count": 9,
   "metadata": {},
   "outputs": [
    {
     "data": {
      "text/plain": [
       "[{'Tabular': {'il': 'Elaziğ',\n",
       "   'sokak': '1. Sokak',\n",
       "   'cadde': '2. Cadde',\n",
       "   'ev': '3. Ev',\n",
       "   'no': 4}}]"
      ]
     },
     "execution_count": 9,
     "metadata": {},
     "output_type": "execute_result"
    }
   ],
   "source": [
    "data = output['text'].replace(\"'{\", \"{\").replace(\"}'\", \"}\")\n",
    "eval(data)\n"
   ]
  },
  {
   "cell_type": "code",
   "execution_count": null,
   "metadata": {},
   "outputs": [],
   "source": []
  }
 ],
 "metadata": {
  "kernelspec": {
   "display_name": "prompt-env",
   "language": "python",
   "name": "python3"
  },
  "language_info": {
   "codemirror_mode": {
    "name": "ipython",
    "version": 3
   },
   "file_extension": ".py",
   "mimetype": "text/x-python",
   "name": "python",
   "nbconvert_exporter": "python",
   "pygments_lexer": "ipython3",
   "version": "3.9.16"
  },
  "orig_nbformat": 4,
  "vscode": {
   "interpreter": {
    "hash": "003cbd9d5de60837b71ec248298ceb3401870867de42df8ae6f444c9dc068945"
   }
  }
 },
 "nbformat": 4,
 "nbformat_minor": 2
}
